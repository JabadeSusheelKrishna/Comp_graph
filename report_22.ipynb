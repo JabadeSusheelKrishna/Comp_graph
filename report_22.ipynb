{
 "cells": [
  {
   "cell_type": "markdown",
   "metadata": {},
   "source": [
    "# Question 2 b"
   ]
  },
  {
   "cell_type": "markdown",
   "metadata": {},
   "source": [
    "## BVH Construction"
   ]
  },
  {
   "cell_type": "markdown",
   "metadata": {},
   "source": [
    "In this question we are suppose to build a BVH tree.\n",
    "\n",
    "### Algorithm\n",
    "\n",
    "- First we neet to have centroids for each AABB of a surface.\n",
    "- now we will be creating a rootnode that stores the data regarding BOX vertices and left right pointers and finall whether it is a leaf or not\n",
    "- now we will be first finding the box vertices of root node.\n",
    "- Now by recursion we will be counting the surfaces in the Box. if it is one we can return from there else we recurse it by sending left and right nodes\n",
    "- Now we are done with the trees part. Now we need to traverse each time.\n",
    "- For the traversal we need to first go on checking whether ray intersects the node. if yes go through left and right else return from there."
   ]
  },
  {
   "cell_type": "code",
   "execution_count": null,
   "metadata": {
    "vscode": {
     "languageId": "plaintext"
    }
   },
   "outputs": [],
   "source": [
    "struct B_node {\n",
    "    bool is_leaf = false;\n",
    "    bool extra_safety = true;\n",
    "    struct B_node* right = NULL;\n",
    "    struct B_node* left = NULL;\n",
    "\n",
    "    int total_Surfaces = 0;\n",
    "    int surf_index = -1;\n",
    "    int mut = 0;\n",
    "\n",
    "    Vector3f box_min = Vector3f(INFINITY, INFINITY, INFINITY);\n",
    "    Vector3f box_max = Vector3f(-INFINITY, -INFINITY, -INFINITY);\n",
    "};"
   ]
  },
  {
   "cell_type": "markdown",
   "metadata": {},
   "source": [
    "The above the details that i am storing in my struct."
   ]
  },
  {
   "cell_type": "code",
   "execution_count": null,
   "metadata": {
    "vscode": {
     "languageId": "plaintext"
    }
   },
   "outputs": [],
   "source": [
    "void Surface ::build_AABB(B_node *root, Surface *Surfaces_array, int* index)\n",
    "{\n",
    "    if (this->is_done == false)\n",
    "    {\n",
    "        this->is_done = true;\n",
    "        Vector3f AABB_min, AABB_max;\n",
    "        for (auto &face : this->indices)\n",
    "        {\n",
    "            Vector3f p1 = this->vertices[face.x];\n",
    "            Vector3f p2 = this->vertices[face.y];\n",
    "            Vector3f p3 = this->vertices[face.z];\n",
    "\n",
    "            // printf(\"%d | %d | %d\\n\", face.x, face.y, face.z);\n",
    "\n",
    "            AABB_min.x = min_3f(p1.x, p2.x, p3.x);\n",
    "            AABB_min.y = min_3f(p1.y, p2.y, p3.y);\n",
    "            AABB_min.z = min_3f(p1.z, p2.z, p3.z);\n",
    "            AABB_max.x = max_3f(p1.x, p2.x, p3.x);\n",
    "            AABB_max.y = max_3f(p1.y, p2.y, p3.y);\n",
    "            AABB_max.z = max_3f(p1.z, p2.z, p3.z);\n",
    "\n",
    "            this->AABB_min = min_2v(this->AABB_min, AABB_min);\n",
    "            this->AABB_max = max_2v(this->AABB_max, AABB_max);\n",
    "            this->Centroid = Centroid_calc(AABB_min, AABB_max);\n",
    "        }\n",
    "\n",
    "        root->box_min = min_2v(this->AABB_min, root->box_min);\n",
    "        root->box_max = max_2v(this->AABB_max, root->box_max);\n",
    "\n",
    "        Surfaces_array[(*index)++] = *this;\n",
    "    }\n",
    "}"
   ]
  },
  {
   "cell_type": "markdown",
   "metadata": {},
   "source": [
    "Here i will be Creating AABB boxes for each surface and also store the minimum\n",
    "and maximum values for sake of root node."
   ]
  },
  {
   "cell_type": "code",
   "execution_count": null,
   "metadata": {
    "vscode": {
     "languageId": "plaintext"
    }
   },
   "outputs": [],
   "source": [
    "Interaction Scene::rayIntersect(Ray &ray)\n",
    "{\n",
    "    Interaction siFinal;\n",
    "\n",
    "    if (donn == false)\n",
    "    {\n",
    "        donn = true;\n",
    "        for (auto &surface : this->surfaces)\n",
    "        {\n",
    "            surface.build_AABB(root, Surfaces_array, &indexii);\n",
    "        }\n",
    "\n",
    "        std ::printf(\"Surfaces Total : %d\\n\", indexii);\n",
    "\n",
    "        for (int i = 0; i < indexii; i++)\n",
    "        {\n",
    "            float cx = (Surfaces_array[i].AABB_max.x + Surfaces_array[i].AABB_min.x) / 2;\n",
    "            float cy = (Surfaces_array[i].AABB_max.y + Surfaces_array[i].AABB_min.y) / 2;\n",
    "            float cz = (Surfaces_array[i].AABB_max.z + Surfaces_array[i].AABB_min.z) / 2;\n",
    "\n",
    "            Surfaces_array[i].Centroid = Vector3f(cx, cy, cz);\n",
    "        }\n",
    "        Build_BVH(root);\n",
    "    }\n",
    "        Traverse_and_print(root, &siFinal, ray);\n",
    "\n",
    "    return siFinal;\n",
    "}"
   ]
  },
  {
   "cell_type": "markdown",
   "metadata": {},
   "source": [
    "The above code is my ray intersect funtion. it will build a BVH tree and traverse over object."
   ]
  },
  {
   "cell_type": "code",
   "execution_count": null,
   "metadata": {
    "vscode": {
     "languageId": "plaintext"
    }
   },
   "outputs": [],
   "source": [
    "B_node* Build_BVH(B_node *node)\n",
    "{\n",
    "    int surf_count = 0;\n",
    "    int ind = 0;\n",
    "    for (int i = 0; i < indexii; i++)\n",
    "    {\n",
    "        if (is_in(Surfaces_array[i], node) /*&& !Calculated[i]*/)\n",
    "        {\n",
    "            surf_count++;\n",
    "            ind = i;\n",
    "        }\n",
    "    }\n",
    "\n",
    "    node->total_Surfaces = surf_count;\n",
    "\n",
    "    if (surf_count == 1)\n",
    "    {\n",
    "        // Calculated[ind] = true;\n",
    "        node->surf_index = ind;\n",
    "        node->is_leaf = true;\n",
    "        return node;\n",
    "    }\n",
    "\n",
    "    if (surf_count == 0)\n",
    "    {\n",
    "        node->is_leaf = true;\n",
    "        return node;\n",
    "    }\n",
    "\n",
    "    int axis = axis_finder(node);\n",
    "\n",
    "    if (axis == X_axis || axis == Y_axis || axis == Z_axis)\n",
    "    {\n",
    "        float half;\n",
    "        if (axis == X_axis)\n",
    "            half = (node->box_min.x + node->box_max.x) / 2.0f;\n",
    "        else if (axis == Y_axis)\n",
    "            half = (node->box_min.y + node->box_max.y) / 2.0f;\n",
    "        else\n",
    "            half = (node->box_min.z + node->box_max.z) / 2.0f;\n",
    "\n",
    "        B_node* left = new B_node;\n",
    "        B_node* right = new B_node;\n",
    "\n",
    "        if (axis == X_axis)\n",
    "        {\n",
    "            left->box_min = node->box_min;\n",
    "            left->box_max = Vector3f(half, node->box_max.y, node->box_max.z);\n",
    "\n",
    "            right->box_min = Vector3f(half, node->box_min.y, node->box_min.z);\n",
    "            right->box_max = node->box_max;\n",
    "        }\n",
    "        else if (axis == Y_axis)\n",
    "        {\n",
    "            left->box_min = node->box_min;\n",
    "            left->box_max = Vector3f(node->box_max.x, half, node->box_max.z);\n",
    "\n",
    "            right->box_min = Vector3f(node->box_min.x, half, node->box_min.z);\n",
    "            right->box_max = node->box_max;\n",
    "        }\n",
    "        else\n",
    "        {\n",
    "            left->box_min = node->box_min;\n",
    "            left->box_max = Vector3f(node->box_max.x, node->box_max.y, half);\n",
    "\n",
    "            right->box_min = Vector3f(node->box_min.x, node->box_min.y, half);\n",
    "            right->box_max = node->box_max;\n",
    "        }\n",
    "\n",
    "        node->left = Build_BVH(left);\n",
    "        node->right = Build_BVH(right);\n",
    "    }\n",
    "\n",
    "    return node;\n",
    "}"
   ]
  },
  {
   "cell_type": "markdown",
   "metadata": {},
   "source": [
    "The above code is used to calculate the BVH Tree. We will first check surfaces count in our node. if it is one then we can return else we will split. we will find where to split with the help of `axis_finder` "
   ]
  },
  {
   "cell_type": "code",
   "execution_count": null,
   "metadata": {
    "vscode": {
     "languageId": "plaintext"
    }
   },
   "outputs": [],
   "source": [
    "void Traverse_and_print(B_node *node, Interaction *siFinal, Ray &ray)\n",
    "{\n",
    "    // printf(\"I came these many times\\n\");\n",
    "    if (node->is_leaf == true)\n",
    "    {\n",
    "        Surface temp = Surfaces_array[node->surf_index];\n",
    "        Interaction si = temp.rayIntersect(ray);\n",
    "        if (si.t <= ray.t)\n",
    "        {\n",
    "            *siFinal = si;\n",
    "            ray.t = si.t;\n",
    "        }\n",
    "    }\n",
    "    else\n",
    "    {\n",
    "        if (intersect_aabb(node->box_min, node->box_max, ray))\n",
    "        {\n",
    "            if (node->left != NULL)\n",
    "            {\n",
    "                Traverse_and_print(node->left, siFinal, ray);\n",
    "            }\n",
    "            if (node->right != NULL)\n",
    "            {\n",
    "                Traverse_and_print(node->right, siFinal, ray);\n",
    "            }\n",
    "        }\n",
    "    }\n",
    "\n",
    "    return;\n",
    "}\n"
   ]
  },
  {
   "cell_type": "markdown",
   "metadata": {},
   "source": [
    "Finally this the traversal part. we will first check each node whether our ray intersects to it or not. if it intersects we will find whether it is least distant object or not. if yes then we will store in `sifinal` else we go on traversing"
   ]
  },
  {
   "cell_type": "markdown",
   "metadata": {},
   "source": [
    "### Render times\n",
    "\n",
    "- HIGH POLY : 97156.851562 ms\n",
    "- LOW POLY : 18929.783203 ms\n",
    "- Donut :  65863.296875 ms\n",
    "- TableTop : 14717.795898 ms\n"
   ]
  }
 ],
 "metadata": {
  "language_info": {
   "name": "python"
  }
 },
 "nbformat": 4,
 "nbformat_minor": 2
}
